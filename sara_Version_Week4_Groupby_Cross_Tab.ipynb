{
  "nbformat": 4,
  "nbformat_minor": 0,
  "metadata": {
    "colab": {
      "provenance": [],
      "authorship_tag": "ABX9TyPBcpQvffxs+P1O8JDSFWeo",
      "include_colab_link": true
    },
    "kernelspec": {
      "name": "python3",
      "display_name": "Python 3"
    },
    "language_info": {
      "name": "python"
    }
  },
  "cells": [
    {
      "cell_type": "markdown",
      "metadata": {
        "id": "view-in-github",
        "colab_type": "text"
      },
      "source": [
        "<a href=\"https://colab.research.google.com/github/SaraNauman/python/blob/main/sara_Version_Week4_Groupby_Cross_Tab.ipynb\" target=\"_parent\"><img src=\"https://colab.research.google.com/assets/colab-badge.svg\" alt=\"Open In Colab\"/></a>"
      ]
    },
    {
      "cell_type": "code",
      "execution_count": 1,
      "metadata": {
        "id": "DS8uueeZ92mB"
      },
      "outputs": [],
      "source": [
        "import pandas as pd\n",
        "import numpy as np\n",
        "import matplotlib.pyplot as plt\n",
        "from scipy.stats import zscore\n",
        "from scipy.stats.mstats import winsorize"
      ]
    },
    {
      "cell_type": "code",
      "source": [
        "titanic_df=pd.read_csv(\"Titanic-Dataset.csv\")"
      ],
      "metadata": {
        "id": "30Ai7m5I-Oqn"
      },
      "execution_count": 2,
      "outputs": []
    },
    {
      "cell_type": "code",
      "source": [
        "# Activity 1: Calculate and display the survival rate for each combination of embarkation point (Embarked) and gender (Sex).\n",
        "\n",
        "survival_rates = titanic_df.groupby(['Embarked', 'Sex'])['Survived'].mean() * 100\n",
        "survival_rates = survival_rates.reset_index().rename(columns={'Survived': 'Survival Rate (%)'})\n",
        "print(survival_rates)\n"
      ],
      "metadata": {
        "colab": {
          "base_uri": "https://localhost:8080/"
        },
        "id": "3E057bt7-ZqT",
        "outputId": "b3a2ffa6-c606-4d4d-d40d-8701e5caa2cb"
      },
      "execution_count": 3,
      "outputs": [
        {
          "output_type": "stream",
          "name": "stdout",
          "text": [
            "  Embarked     Sex  Survival Rate (%)\n",
            "0        C  female          87.671233\n",
            "1        C    male          30.526316\n",
            "2        Q  female          75.000000\n",
            "3        Q    male           7.317073\n",
            "4        S  female          68.965517\n",
            "5        S    male          17.460317\n"
          ]
        }
      ]
    },
    {
      "cell_type": "code",
      "source": [
        "# Activity 2: Average Fare by Passenger Class and Age Group\n",
        "# Create age groups (e.g., 0-10, 11-20, 21-30, etc.).\n",
        "# Calculate and display the average fare for each passenger class (Pclass) within each age group.\n",
        "\n",
        "age_bins = [0, 10, 20, 30, 40, 50, 60, 70, 80]\n",
        "age_labels = ['0-10', '11-20', '21-30', '31-40', '41-50', '51-60', '61-70', '71-80']\n",
        "titanic_df['Age Group'] = pd.cut(titanic_df['Age'], bins=age_bins, labels=age_labels, right=False)\n",
        "average_fare_by_class_age = titanic_df.groupby(['Pclass', 'Age Group'])['Fare'].mean().reset_index()\n",
        "print(average_fare_by_class_age)\n"
      ],
      "metadata": {
        "colab": {
          "base_uri": "https://localhost:8080/"
        },
        "id": "fF-JzeFw-dYP",
        "outputId": "b7098858-2c69-483c-dc38-b12108e0eb39"
      },
      "execution_count": 4,
      "outputs": [
        {
          "output_type": "stream",
          "name": "stdout",
          "text": [
            "    Pclass Age Group        Fare\n",
            "0        1      0-10  128.319433\n",
            "1        1     11-20  114.106250\n",
            "2        1     21-30  101.603797\n",
            "3        1     31-40   98.344334\n",
            "4        1     41-50   67.985141\n",
            "5        1     51-60   74.600770\n",
            "6        1     61-70   64.262177\n",
            "7        1     71-80   51.719467\n",
            "8        2      0-10   28.740200\n",
            "9        2     11-20   20.934489\n",
            "10       2     21-30   22.273113\n",
            "11       2     31-40   19.616146\n",
            "12       2     41-50   23.125000\n",
            "13       2     51-60   16.025000\n",
            "14       2     61-70   20.000000\n",
            "15       2     71-80   10.500000\n",
            "16       3      0-10   24.338390\n",
            "17       3     11-20   13.452276\n",
            "18       3     21-30   10.273399\n",
            "19       3     31-40   12.814730\n",
            "20       3     41-50   13.250124\n",
            "21       3     51-60    7.700700\n",
            "22       3     61-70    7.858333\n",
            "23       3     71-80    7.762500\n"
          ]
        },
        {
          "output_type": "stream",
          "name": "stderr",
          "text": [
            "<ipython-input-4-3bccec3bd124>:8: FutureWarning: The default of observed=False is deprecated and will be changed to True in a future version of pandas. Pass observed=False to retain current behavior or observed=True to adopt the future default and silence this warning.\n",
            "  average_fare_by_class_age = titanic_df.groupby(['Pclass', 'Age Group'])['Fare'].mean().reset_index()\n"
          ]
        }
      ]
    },
    {
      "cell_type": "code",
      "source": [
        "# Activity 3: Survival Rate by Family Size and Passenger Class\n",
        "# Create a new column called 'FamilySize' representing the total size of each family (SibSp + Parch + 1).\n",
        "# Analyze the survival rate for each passenger class (Pclass) grouped by family size.\n",
        "\n",
        "titanic_df['FamilySize'] = titanic_df['SibSp'] + titanic_df['Parch'] + 1\n",
        "survival_rate_by_family_size = titanic_df.groupby(['Pclass', 'FamilySize'])['Survived'].mean() * 100\n",
        "survival_rate_by_family_size = survival_rate_by_family_size.reset_index().rename(columns={'Survived': 'Survival Rate (%)'})\n",
        "print(survival_rate_by_family_size)"
      ],
      "metadata": {
        "colab": {
          "base_uri": "https://localhost:8080/"
        },
        "id": "RcRK2OiY-iDJ",
        "outputId": "571d9516-a137-483f-8932-6002a12a56ec"
      },
      "execution_count": 5,
      "outputs": [
        {
          "output_type": "stream",
          "name": "stdout",
          "text": [
            "    Pclass  FamilySize  Survival Rate (%)\n",
            "0        1           1          53.211009\n",
            "1        1           2          72.857143\n",
            "2        1           3          75.000000\n",
            "3        1           4          71.428571\n",
            "4        1           5         100.000000\n",
            "5        1           6          50.000000\n",
            "6        2           1          34.615385\n",
            "7        2           2          52.941176\n",
            "8        2           3          67.741935\n",
            "9        2           4          76.923077\n",
            "10       2           5         100.000000\n",
            "11       2           6         100.000000\n",
            "12       3           1          21.296296\n",
            "13       3           2          35.087719\n",
            "14       3           3          42.553191\n",
            "15       3           4          66.666667\n",
            "16       3           5           0.000000\n",
            "17       3           6           0.000000\n",
            "18       3           7          33.333333\n",
            "19       3           8           0.000000\n",
            "20       3          11           0.000000\n"
          ]
        }
      ]
    },
    {
      "cell_type": "code",
      "source": [
        "# Activity 4: Visualizing Survival Rate by Age and Passenger Class\n",
        "# Create a visualization (e.g., a heatmap) showing the survival rate for different age groups (as in Activity 2) and passenger classes.\n",
        "\n",
        "age_bins = [0, 10, 20, 30, 40, 50, 60, 70, 80]\n",
        "age_labels = ['0-10', '11-20', '21-30', '31-40', '41-50', '51-60', '61-70', '71-80']\n",
        "titanic_df['Age Group'] = pd.cut(titanic_df['Age'], bins=age_bins, labels=age_labels, right=False)\n",
        "survival_rate_by_age_class = titanic_df.groupby(['Pclass', 'Age Group'])['Survived'].mean()\n",
        "survival_rate_by_age_class = survival_rate_by_age_class.unstack()\n",
        "plt.figure(figsize=(10, 6))\n",
        "plt.imshow(survival_rate_by_age_class, cmap='coolwarm', interpolation='nearest')\n",
        "plt.colorbar(label='Survival Rate')\n",
        "plt.title('Survival Rate by Age and Passenger Class')\n",
        "plt.xlabel('Age Group')\n",
        "plt.ylabel('Passenger Class')\n",
        "plt.xticks(range(len(age_labels)), age_labels, rotation=45)\n",
        "plt.yticks(range(len(titanic_df['Pclass'].unique())), titanic_df['Pclass'].unique())\n",
        "plt.show()"
      ],
      "metadata": {
        "colab": {
          "base_uri": "https://localhost:8080/",
          "height": 568
        },
        "id": "JRVNBsQc_NaG",
        "outputId": "b7c47fb5-1c9e-46c1-ca90-e60d17f5644f"
      },
      "execution_count": 6,
      "outputs": [
        {
          "output_type": "stream",
          "name": "stderr",
          "text": [
            "<ipython-input-6-dc17f39792e2>:7: FutureWarning: The default of observed=False is deprecated and will be changed to True in a future version of pandas. Pass observed=False to retain current behavior or observed=True to adopt the future default and silence this warning.\n",
            "  survival_rate_by_age_class = titanic_df.groupby(['Pclass', 'Age Group'])['Survived'].mean()\n"
          ]
        },
        {
          "output_type": "display_data",
          "data": {
            "text/plain": [
              "<Figure size 1000x600 with 2 Axes>"
            ],
            "image/png": "[encoded data removed]"
          },
          "metadata": {}
        }
      ]
    },
    {
      "cell_type": "code",
      "source": [
        "# Activity 5:  Advanced Pivot Table Analysis: Survival Rate, Fare, and Age\n",
        "# Construct a pivot table that simultaneously presents:\n",
        "#   - The average survival rate\n",
        "#   - The median fare\n",
        "#   - The average age\n",
        "# Grouped by 'Pclass' and 'Sex'.\n",
        "# Handle potential missing values in the pivot table.\n",
        "\n",
        "pivot_table = titanic_df.pivot_table(values=['Survived', 'Fare', 'Age'], index='Pclass', columns='Sex', aggfunc={'Survived': 'mean', 'Fare': 'median', 'Age': 'mean'})\n",
        "pivot_table = pivot_table.fillna(0)\n",
        "print(pivot_table)"
      ],
      "metadata": {
        "colab": {
          "base_uri": "https://localhost:8080/"
        },
        "id": "4IFCjhpk_RJY",
        "outputId": "91832bcb-3eee-44d2-97a4-78672dcde5bc"
      },
      "execution_count": 7,
      "outputs": [
        {
          "output_type": "stream",
          "name": "stdout",
          "text": [
            "              Age                 Fare           Survived          \n",
            "Sex        female       male    female     male    female      male\n",
            "Pclass                                                             \n",
            "1       34.611765  41.281386  82.66455  41.2625  0.968085  0.368852\n",
            "2       28.722973  30.740707  22.00000  13.0000  0.921053  0.157407\n",
            "3       21.750000  26.507589  12.47500   7.9250  0.500000  0.135447\n"
          ]
        }
      ]
    },
    {
      "cell_type": "code",
      "source": [
        "# Bonus Activity: Investigate the relationship between survival rate, fare, and age, considering both gender and passenger class. Visualize your findings effectively.\n",
        "\n",
        "pivot_table = titanic_df.pivot_table(values=['Survived', 'Fare', 'Age'], index=['Sex', 'Pclass'], aggfunc={'Survived': 'mean', 'Fare': 'median', 'Age': 'mean'})\n",
        "pivot_table = pivot_table.fillna(0)\n",
        "print(pivot_table)\n",
        ""
      ],
      "metadata": {
        "colab": {
          "base_uri": "https://localhost:8080/"
        },
        "id": "G8Gy64Ek_Uay",
        "outputId": "e0aaad9b-9f98-4ba4-a2c4-bc2414fbb13f"
      },
      "execution_count": 8,
      "outputs": [
        {
          "output_type": "stream",
          "name": "stdout",
          "text": [
            "                     Age      Fare  Survived\n",
            "Sex    Pclass                               \n",
            "female 1       34.611765  82.66455  0.968085\n",
            "       2       28.722973  22.00000  0.921053\n",
            "       3       21.750000  12.47500  0.500000\n",
            "male   1       41.281386  41.26250  0.368852\n",
            "       2       30.740707  13.00000  0.157407\n",
            "       3       26.507589   7.92500  0.135447\n"
          ]
        }
      ]
    }
  ]
}